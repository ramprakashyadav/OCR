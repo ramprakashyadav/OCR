{
  "nbformat": 4,
  "nbformat_minor": 0,
  "metadata": {
    "colab": {
      "name": "pdfplumber.ipynb",
      "provenance": [],
      "authorship_tag": "ABX9TyMJ6NUVHrXi3CZaUdtdDwNH",
      "include_colab_link": true
    },
    "kernelspec": {
      "name": "python3",
      "display_name": "Python 3"
    },
    "language_info": {
      "name": "python"
    }
  },
  "cells": [
    {
      "cell_type": "markdown",
      "metadata": {
        "id": "view-in-github",
        "colab_type": "text"
      },
      "source": [
        "<a href=\"https://colab.research.google.com/github/ramprakashyadav/OCR/blob/main/pdfplumber.ipynb\" target=\"_parent\"><img src=\"https://colab.research.google.com/assets/colab-badge.svg\" alt=\"Open In Colab\"/></a>"
      ]
    },
    {
      "cell_type": "code",
      "execution_count": 7,
      "metadata": {
        "colab": {
          "base_uri": "https://localhost:8080/"
        },
        "id": "r6UQNeVqwPtF",
        "outputId": "7b5751cc-3d89-4a59-e657-6e697bd210a9"
      },
      "outputs": [
        {
          "output_type": "stream",
          "name": "stdout",
          "text": [
            "Requirement already satisfied: pdfplumber in /usr/local/lib/python3.7/dist-packages (0.6.0)\n",
            "Requirement already satisfied: pdfminer.six==20211012 in /usr/local/lib/python3.7/dist-packages (from pdfplumber) (20211012)\n",
            "Requirement already satisfied: Pillow>=8.4 in /usr/local/lib/python3.7/dist-packages (from pdfplumber) (9.0.1)\n",
            "Requirement already satisfied: Wand>=0.6.7 in /usr/local/lib/python3.7/dist-packages (from pdfplumber) (0.6.7)\n",
            "Requirement already satisfied: chardet in /usr/local/lib/python3.7/dist-packages (from pdfminer.six==20211012->pdfplumber) (3.0.4)\n",
            "Requirement already satisfied: cryptography in /usr/local/lib/python3.7/dist-packages (from pdfminer.six==20211012->pdfplumber) (36.0.1)\n",
            "Requirement already satisfied: cffi>=1.12 in /usr/local/lib/python3.7/dist-packages (from cryptography->pdfminer.six==20211012->pdfplumber) (1.15.0)\n",
            "Requirement already satisfied: pycparser in /usr/local/lib/python3.7/dist-packages (from cffi>=1.12->cryptography->pdfminer.six==20211012->pdfplumber) (2.21)\n"
          ]
        }
      ],
      "source": [
        "!pip install pdfplumber"
      ]
    },
    {
      "cell_type": "code",
      "source": [
        "import pdfplumber"
      ],
      "metadata": {
        "id": "Omgs2pMCwUlv"
      },
      "execution_count": 9,
      "outputs": []
    },
    {
      "cell_type": "code",
      "source": [
        "from google.colab import drive\n",
        "drive.mount('/content/gdrive')"
      ],
      "metadata": {
        "colab": {
          "base_uri": "https://localhost:8080/"
        },
        "id": "cBeq8A-qx2l0",
        "outputId": "0eaf2671-60ee-4009-921d-7b311010d854"
      },
      "execution_count": 10,
      "outputs": [
        {
          "output_type": "stream",
          "name": "stdout",
          "text": [
            "Drive already mounted at /content/gdrive; to attempt to forcibly remount, call drive.mount(\"/content/gdrive\", force_remount=True).\n"
          ]
        }
      ]
    },
    {
      "cell_type": "code",
      "source": [
        "INPUT_FOLDER = \"/content/gdrive/MyDrive/tensorflow/models/research/object_detection/input_images/\""
      ],
      "metadata": {
        "id": "cL7nndtnxaLv"
      },
      "execution_count": 5,
      "outputs": []
    },
    {
      "cell_type": "code",
      "source": [
        "pdf = pdfplumber.open(INPUT_FOLDER+\"test101.pdf\")\n",
        "table=pdf.pages[0].extract_table()"
      ],
      "metadata": {
        "id": "I0X10HJ8xOL1"
      },
      "execution_count": 6,
      "outputs": []
    },
    {
      "cell_type": "code",
      "source": [
        "table"
      ],
      "metadata": {
        "colab": {
          "base_uri": "https://localhost:8080/"
        },
        "id": "ClljLMQryCVq",
        "outputId": "25e1e0ed-f83a-4366-c776-f14cfd6acda9"
      },
      "execution_count": 11,
      "outputs": [
        {
          "output_type": "execute_result",
          "data": {
            "text/plain": [
              "[['Serial No',\n",
              "  'Material Description',\n",
              "  'HSN/SAC',\n",
              "  'Qty',\n",
              "  'Rate Per\\nItem',\n",
              "  'Gross Amt.',\n",
              "  'Discount Amt.',\n",
              "  'Net Amt.',\n",
              "  'GST Rate %',\n",
              "  'GST Tax Amt.',\n",
              "  'Total Amt. (INR)'],\n",
              " ['10',\n",
              "  'Red Bull ED IN Alu Can 24x350ml\\nRB201709\\nMfg. Dt.: 14.04.2021-15\\nBatch No: 1915069',\n",
              "  '22029990',\n",
              "  '15 BOX',\n",
              "  '2,063.90',\n",
              "  '30,958.50',\n",
              "  '1,800.00',\n",
              "  '29,158.50',\n",
              "  'GST: 28\\nCESS: 12',\n",
              "  'IGST: 0.00\\nCGST: 4,082.00\\nSGST/UGST:\\n4,082.00\\nCESS: 3,499.00',\n",
              "  '40,821.50'],\n",
              " ['20',\n",
              "  'Red Bull ED IN 250ml 4Pack PMC\\nRB202075\\nMfg. Dt.: 11.08.2021-175\\nBatch No: 1951558',\n",
              "  '22029990',\n",
              "  '175 BOX',\n",
              "  '1,569.87',\n",
              "  '274,727.25',\n",
              "  '21,000.00',\n",
              "  '253,727.25',\n",
              "  'GST: 28\\nCESS: 12',\n",
              "  'IGST: 0.00\\nCGST: 35,522.00\\nSGST/UGST:\\n35,522.00\\nCESS: 30,447.00',\n",
              "  '355,218.25'],\n",
              " ['Total',\n",
              "  None,\n",
              "  None,\n",
              "  None,\n",
              "  None,\n",
              "  '305,685.75',\n",
              "  '22,800.00',\n",
              "  '282,885.75',\n",
              "  '',\n",
              "  '113,154.00',\n",
              "  '396,039.75'],\n",
              " ['TCS', None, None, None, None, None, None, None, None, None, '0.00'],\n",
              " ['Total Amount',\n",
              "  None,\n",
              "  None,\n",
              "  None,\n",
              "  None,\n",
              "  None,\n",
              "  None,\n",
              "  None,\n",
              "  None,\n",
              "  None,\n",
              "  '396,039.75']]"
            ]
          },
          "metadata": {},
          "execution_count": 11
        }
      ]
    },
    {
      "cell_type": "code",
      "source": [
        "import pandas as pd\n"
      ],
      "metadata": {
        "id": "n-1NZr23xv8Q"
      },
      "execution_count": 12,
      "outputs": []
    },
    {
      "cell_type": "code",
      "source": [
        "df = pd.DataFrame(table[1::],columns=table[0])"
      ],
      "metadata": {
        "id": "WsMLrBqX02zw"
      },
      "execution_count": 13,
      "outputs": []
    },
    {
      "cell_type": "code",
      "source": [
        "df"
      ],
      "metadata": {
        "colab": {
          "base_uri": "https://localhost:8080/",
          "height": 354
        },
        "id": "5YNediM91Lay",
        "outputId": "be7632f0-96ad-47c2-f227-cf841c7546be"
      },
      "execution_count": 14,
      "outputs": [
        {
          "output_type": "execute_result",
          "data": {
            "text/html": [
              "\n",
              "  <div id=\"df-99a05a0e-e444-4531-b075-db767f209d14\">\n",
              "    <div class=\"colab-df-container\">\n",
              "      <div>\n",
              "<style scoped>\n",
              "    .dataframe tbody tr th:only-of-type {\n",
              "        vertical-align: middle;\n",
              "    }\n",
              "\n",
              "    .dataframe tbody tr th {\n",
              "        vertical-align: top;\n",
              "    }\n",
              "\n",
              "    .dataframe thead th {\n",
              "        text-align: right;\n",
              "    }\n",
              "</style>\n",
              "<table border=\"1\" class=\"dataframe\">\n",
              "  <thead>\n",
              "    <tr style=\"text-align: right;\">\n",
              "      <th></th>\n",
              "      <th>Serial No</th>\n",
              "      <th>Material Description</th>\n",
              "      <th>HSN/SAC</th>\n",
              "      <th>Qty</th>\n",
              "      <th>Rate Per\\nItem</th>\n",
              "      <th>Gross Amt.</th>\n",
              "      <th>Discount Amt.</th>\n",
              "      <th>Net Amt.</th>\n",
              "      <th>GST Rate %</th>\n",
              "      <th>GST Tax Amt.</th>\n",
              "      <th>Total Amt. (INR)</th>\n",
              "    </tr>\n",
              "  </thead>\n",
              "  <tbody>\n",
              "    <tr>\n",
              "      <th>0</th>\n",
              "      <td>10</td>\n",
              "      <td>Red Bull ED IN Alu Can 24x350ml\\nRB201709\\nMfg...</td>\n",
              "      <td>22029990</td>\n",
              "      <td>15 BOX</td>\n",
              "      <td>2,063.90</td>\n",
              "      <td>30,958.50</td>\n",
              "      <td>1,800.00</td>\n",
              "      <td>29,158.50</td>\n",
              "      <td>GST: 28\\nCESS: 12</td>\n",
              "      <td>IGST: 0.00\\nCGST: 4,082.00\\nSGST/UGST:\\n4,082....</td>\n",
              "      <td>40,821.50</td>\n",
              "    </tr>\n",
              "    <tr>\n",
              "      <th>1</th>\n",
              "      <td>20</td>\n",
              "      <td>Red Bull ED IN 250ml 4Pack PMC\\nRB202075\\nMfg....</td>\n",
              "      <td>22029990</td>\n",
              "      <td>175 BOX</td>\n",
              "      <td>1,569.87</td>\n",
              "      <td>274,727.25</td>\n",
              "      <td>21,000.00</td>\n",
              "      <td>253,727.25</td>\n",
              "      <td>GST: 28\\nCESS: 12</td>\n",
              "      <td>IGST: 0.00\\nCGST: 35,522.00\\nSGST/UGST:\\n35,52...</td>\n",
              "      <td>355,218.25</td>\n",
              "    </tr>\n",
              "    <tr>\n",
              "      <th>2</th>\n",
              "      <td>Total</td>\n",
              "      <td>None</td>\n",
              "      <td>None</td>\n",
              "      <td>None</td>\n",
              "      <td>None</td>\n",
              "      <td>305,685.75</td>\n",
              "      <td>22,800.00</td>\n",
              "      <td>282,885.75</td>\n",
              "      <td></td>\n",
              "      <td>113,154.00</td>\n",
              "      <td>396,039.75</td>\n",
              "    </tr>\n",
              "    <tr>\n",
              "      <th>3</th>\n",
              "      <td>TCS</td>\n",
              "      <td>None</td>\n",
              "      <td>None</td>\n",
              "      <td>None</td>\n",
              "      <td>None</td>\n",
              "      <td>None</td>\n",
              "      <td>None</td>\n",
              "      <td>None</td>\n",
              "      <td>None</td>\n",
              "      <td>None</td>\n",
              "      <td>0.00</td>\n",
              "    </tr>\n",
              "    <tr>\n",
              "      <th>4</th>\n",
              "      <td>Total Amount</td>\n",
              "      <td>None</td>\n",
              "      <td>None</td>\n",
              "      <td>None</td>\n",
              "      <td>None</td>\n",
              "      <td>None</td>\n",
              "      <td>None</td>\n",
              "      <td>None</td>\n",
              "      <td>None</td>\n",
              "      <td>None</td>\n",
              "      <td>396,039.75</td>\n",
              "    </tr>\n",
              "  </tbody>\n",
              "</table>\n",
              "</div>\n",
              "      <button class=\"colab-df-convert\" onclick=\"convertToInteractive('df-99a05a0e-e444-4531-b075-db767f209d14')\"\n",
              "              title=\"Convert this dataframe to an interactive table.\"\n",
              "              style=\"display:none;\">\n",
              "        \n",
              "  <svg xmlns=\"http://www.w3.org/2000/svg\" height=\"24px\"viewBox=\"0 0 24 24\"\n",
              "       width=\"24px\">\n",
              "    <path d=\"M0 0h24v24H0V0z\" fill=\"none\"/>\n",
              "    <path d=\"M18.56 5.44l.94 2.06.94-2.06 2.06-.94-2.06-.94-.94-2.06-.94 2.06-2.06.94zm-11 1L8.5 8.5l.94-2.06 2.06-.94-2.06-.94L8.5 2.5l-.94 2.06-2.06.94zm10 10l.94 2.06.94-2.06 2.06-.94-2.06-.94-.94-2.06-.94 2.06-2.06.94z\"/><path d=\"M17.41 7.96l-1.37-1.37c-.4-.4-.92-.59-1.43-.59-.52 0-1.04.2-1.43.59L10.3 9.45l-7.72 7.72c-.78.78-.78 2.05 0 2.83L4 21.41c.39.39.9.59 1.41.59.51 0 1.02-.2 1.41-.59l7.78-7.78 2.81-2.81c.8-.78.8-2.07 0-2.86zM5.41 20L4 18.59l7.72-7.72 1.47 1.35L5.41 20z\"/>\n",
              "  </svg>\n",
              "      </button>\n",
              "      \n",
              "  <style>\n",
              "    .colab-df-container {\n",
              "      display:flex;\n",
              "      flex-wrap:wrap;\n",
              "      gap: 12px;\n",
              "    }\n",
              "\n",
              "    .colab-df-convert {\n",
              "      background-color: #E8F0FE;\n",
              "      border: none;\n",
              "      border-radius: 50%;\n",
              "      cursor: pointer;\n",
              "      display: none;\n",
              "      fill: #1967D2;\n",
              "      height: 32px;\n",
              "      padding: 0 0 0 0;\n",
              "      width: 32px;\n",
              "    }\n",
              "\n",
              "    .colab-df-convert:hover {\n",
              "      background-color: #E2EBFA;\n",
              "      box-shadow: 0px 1px 2px rgba(60, 64, 67, 0.3), 0px 1px 3px 1px rgba(60, 64, 67, 0.15);\n",
              "      fill: #174EA6;\n",
              "    }\n",
              "\n",
              "    [theme=dark] .colab-df-convert {\n",
              "      background-color: #3B4455;\n",
              "      fill: #D2E3FC;\n",
              "    }\n",
              "\n",
              "    [theme=dark] .colab-df-convert:hover {\n",
              "      background-color: #434B5C;\n",
              "      box-shadow: 0px 1px 3px 1px rgba(0, 0, 0, 0.15);\n",
              "      filter: drop-shadow(0px 1px 2px rgba(0, 0, 0, 0.3));\n",
              "      fill: #FFFFFF;\n",
              "    }\n",
              "  </style>\n",
              "\n",
              "      <script>\n",
              "        const buttonEl =\n",
              "          document.querySelector('#df-99a05a0e-e444-4531-b075-db767f209d14 button.colab-df-convert');\n",
              "        buttonEl.style.display =\n",
              "          google.colab.kernel.accessAllowed ? 'block' : 'none';\n",
              "\n",
              "        async function convertToInteractive(key) {\n",
              "          const element = document.querySelector('#df-99a05a0e-e444-4531-b075-db767f209d14');\n",
              "          const dataTable =\n",
              "            await google.colab.kernel.invokeFunction('convertToInteractive',\n",
              "                                                     [key], {});\n",
              "          if (!dataTable) return;\n",
              "\n",
              "          const docLinkHtml = 'Like what you see? Visit the ' +\n",
              "            '<a target=\"_blank\" href=https://colab.research.google.com/notebooks/data_table.ipynb>data table notebook</a>'\n",
              "            + ' to learn more about interactive tables.';\n",
              "          element.innerHTML = '';\n",
              "          dataTable['output_type'] = 'display_data';\n",
              "          await google.colab.output.renderOutput(dataTable, element);\n",
              "          const docLink = document.createElement('div');\n",
              "          docLink.innerHTML = docLinkHtml;\n",
              "          element.appendChild(docLink);\n",
              "        }\n",
              "      </script>\n",
              "    </div>\n",
              "  </div>\n",
              "  "
            ],
            "text/plain": [
              "      Serial No  ... Total Amt. (INR)\n",
              "0            10  ...        40,821.50\n",
              "1            20  ...       355,218.25\n",
              "2         Total  ...       396,039.75\n",
              "3           TCS  ...             0.00\n",
              "4  Total Amount  ...       396,039.75\n",
              "\n",
              "[5 rows x 11 columns]"
            ]
          },
          "metadata": {},
          "execution_count": 14
        }
      ]
    },
    {
      "cell_type": "code",
      "source": [
        ""
      ],
      "metadata": {
        "id": "XAVbSSau1OxJ"
      },
      "execution_count": null,
      "outputs": []
    }
  ]
}