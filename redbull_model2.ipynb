{
  "nbformat": 4,
  "nbformat_minor": 0,
  "metadata": {
    "colab": {
      "name": "redbull_model2.ipynb",
      "provenance": [],
      "authorship_tag": "ABX9TyPANtHS1ipm1OQ3tzCkGxki",
      "include_colab_link": true
    },
    "kernelspec": {
      "name": "python3",
      "display_name": "Python 3"
    },
    "language_info": {
      "name": "python"
    }
  },
  "cells": [
    {
      "cell_type": "markdown",
      "metadata": {
        "id": "view-in-github",
        "colab_type": "text"
      },
      "source": [
        "<a href=\"https://colab.research.google.com/github/ramprakashyadav/OCR/blob/main/redbull_model2.ipynb\" target=\"_parent\"><img src=\"https://colab.research.google.com/assets/colab-badge.svg\" alt=\"Open In Colab\"/></a>"
      ]
    },
    {
      "cell_type": "code",
      "execution_count": null,
      "metadata": {
        "colab": {
          "base_uri": "https://localhost:8080/"
        },
        "id": "SyQbbBsQ4Iln",
        "outputId": "d2220308-6cfb-44b2-d193-028e3b072c28"
      },
      "outputs": [
        {
          "output_type": "stream",
          "name": "stdout",
          "text": [
            "Requirement already satisfied: pdfplumber in /usr/local/lib/python3.7/dist-packages (0.6.0)\n",
            "Requirement already satisfied: Pillow>=8.4 in /usr/local/lib/python3.7/dist-packages (from pdfplumber) (9.0.1)\n",
            "Requirement already satisfied: Wand>=0.6.7 in /usr/local/lib/python3.7/dist-packages (from pdfplumber) (0.6.7)\n",
            "Requirement already satisfied: pdfminer.six==20211012 in /usr/local/lib/python3.7/dist-packages (from pdfplumber) (20211012)\n",
            "Requirement already satisfied: chardet in /usr/local/lib/python3.7/dist-packages (from pdfminer.six==20211012->pdfplumber) (3.0.4)\n",
            "Requirement already satisfied: cryptography in /usr/local/lib/python3.7/dist-packages (from pdfminer.six==20211012->pdfplumber) (36.0.1)\n",
            "Requirement already satisfied: cffi>=1.12 in /usr/local/lib/python3.7/dist-packages (from cryptography->pdfminer.six==20211012->pdfplumber) (1.15.0)\n",
            "Requirement already satisfied: pycparser in /usr/local/lib/python3.7/dist-packages (from cffi>=1.12->cryptography->pdfminer.six==20211012->pdfplumber) (2.21)\n"
          ]
        }
      ],
      "source": [
        "!pip install pdfplumber"
      ]
    },
    {
      "cell_type": "code",
      "source": [
        "import pdfplumber\n",
        "import os"
      ],
      "metadata": {
        "id": "YOkY8e1T4Xol"
      },
      "execution_count": null,
      "outputs": []
    },
    {
      "cell_type": "code",
      "source": [
        "from google.colab import drive\n",
        "drive.mount('/content/gdrive')"
      ],
      "metadata": {
        "colab": {
          "base_uri": "https://localhost:8080/"
        },
        "id": "f4z54czC4hYu",
        "outputId": "23e3cf19-b5c8-44dd-adb0-c866d2c11752"
      },
      "execution_count": null,
      "outputs": [
        {
          "output_type": "stream",
          "name": "stdout",
          "text": [
            "Mounted at /content/gdrive\n"
          ]
        }
      ]
    },
    {
      "cell_type": "code",
      "source": [
        "%cd /content/gdrive/My Drive/redbull_model2/"
      ],
      "metadata": {
        "colab": {
          "base_uri": "https://localhost:8080/"
        },
        "id": "JA_qq6gw4ovS",
        "outputId": "cead44e2-d9a6-4da9-be55-485ccd8bb4ee"
      },
      "execution_count": null,
      "outputs": [
        {
          "output_type": "stream",
          "name": "stdout",
          "text": [
            "/content/gdrive/My Drive/redbull_model2\n"
          ]
        }
      ]
    },
    {
      "cell_type": "code",
      "source": [
        "INPUT_FOLDER = \"/content/gdrive/MyDrive/redbull_model2/input_folder/\"\n",
        "OUTPUT_FOLDER = \"/content/gdrive/MyDrive/redbull_model2/output_text/\""
      ],
      "metadata": {
        "id": "PPpWl-UF4tt-"
      },
      "execution_count": null,
      "outputs": []
    },
    {
      "cell_type": "code",
      "source": [
        "for fl in os.listdir(INPUT_FOLDER):\n",
        "\n",
        "  pdf = pdfplumber.open(INPUT_FOLDER+fl)\n",
        "  pdf_text=pdf.pages[0].extract_text()\n",
        "  with open(OUTPUT_FOLDER + fl.replace('.pdf','.txt'),'w') as f:\n",
        "    f.write(pdf_text)"
      ],
      "metadata": {
        "id": "EqhcwO9f40hZ"
      },
      "execution_count": null,
      "outputs": []
    },
    {
      "cell_type": "code",
      "source": [
        "!pip install -U spacy -q\n",
        "!python -m spacy info"
      ],
      "metadata": {
        "colab": {
          "base_uri": "https://localhost:8080/"
        },
        "id": "jT6Epgpy6Hp7",
        "outputId": "19048b5e-ff69-4dcf-e024-d14593061859"
      },
      "execution_count": null,
      "outputs": [
        {
          "output_type": "stream",
          "name": "stdout",
          "text": [
            "\u001b[K     |████████████████████████████████| 6.0 MB 23.6 MB/s \n",
            "\u001b[K     |████████████████████████████████| 628 kB 48.1 MB/s \n",
            "\u001b[K     |████████████████████████████████| 451 kB 51.1 MB/s \n",
            "\u001b[K     |████████████████████████████████| 42 kB 1.4 MB/s \n",
            "\u001b[K     |████████████████████████████████| 181 kB 59.8 MB/s \n",
            "\u001b[K     |████████████████████████████████| 10.1 MB 53.3 MB/s \n",
            "\u001b[?25h\u001b[1m\n",
            "============================== Info about spaCy ==============================\u001b[0m\n",
            "\n",
            "spaCy version    3.2.2                         \n",
            "Location         /usr/local/lib/python3.7/dist-packages/spacy\n",
            "Platform         Linux-5.4.144+-x86_64-with-Ubuntu-18.04-bionic\n",
            "Python version   3.7.12                        \n",
            "Pipelines                                      \n",
            "\n"
          ]
        }
      ]
    },
    {
      "cell_type": "code",
      "source": [
        "import spacy\n",
        "from spacy.tokens import DocBin\n",
        "from tqdm import tqdm\n",
        "\n",
        "nlp = spacy.blank(\"en\")\n",
        "db = DocBin()"
      ],
      "metadata": {
        "id": "7H3Dda3a6PGM"
      },
      "execution_count": null,
      "outputs": []
    },
    {
      "cell_type": "code",
      "source": [
        "import json\n",
        "f = open('training_data.json')\n",
        "TRAIN_DATA = json.load(f)"
      ],
      "metadata": {
        "id": "gsK16-wm6TjT"
      },
      "execution_count": null,
      "outputs": []
    },
    {
      "cell_type": "code",
      "source": [
        "for text, annot in tqdm(TRAIN_DATA['annotations']):\n",
        "    doc = nlp.make_doc(text)\n",
        "    ents = []\n",
        "    for start, end, label in annot[\"entities\"]:\n",
        "        span = doc.char_span(start, end, label=label, alignment_mode=\"contract\")\n",
        "        if span is None:\n",
        "          print(\"Skipping entity\")\n",
        "        else:\n",
        "          ents.append(span)\n",
        "    doc.ents = ents\n",
        "    db.add(doc)\n",
        "\n",
        "db.to_disk(\"./training_data.spacy\")"
      ],
      "metadata": {
        "colab": {
          "base_uri": "https://localhost:8080/"
        },
        "id": "OQwmbKUs6Yyy",
        "outputId": "e0a0901b-ffd3-4f07-ace4-e9fa69b31b9a"
      },
      "execution_count": null,
      "outputs": [
        {
          "output_type": "stream",
          "name": "stderr",
          "text": [
            "100%|██████████| 50/50 [00:00<00:00, 1571.04it/s]\n"
          ]
        }
      ]
    },
    {
      "cell_type": "code",
      "source": [
        "!python -m spacy init config config.cfg --lang en --pipeline ner --optimize efficiency"
      ],
      "metadata": {
        "colab": {
          "base_uri": "https://localhost:8080/"
        },
        "id": "8VYPvyrt6eKY",
        "outputId": "a1fc7553-b51e-4009-a686-ddff2d7a93df"
      },
      "execution_count": null,
      "outputs": [
        {
          "output_type": "stream",
          "name": "stdout",
          "text": [
            "\u001b[38;5;3m⚠ To generate a more effective transformer-based config (GPU-only),\n",
            "install the spacy-transformers package and re-run this command. The config\n",
            "generated now does not use transformers.\u001b[0m\n",
            "\u001b[38;5;4mℹ Generated config template specific for your use case\u001b[0m\n",
            "- Language: en\n",
            "- Pipeline: ner\n",
            "- Optimize for: efficiency\n",
            "- Hardware: CPU\n",
            "- Transformer: None\n",
            "\u001b[38;5;2m✔ Auto-filled config with all values\u001b[0m\n",
            "\u001b[38;5;2m✔ Saved config\u001b[0m\n",
            "config.cfg\n",
            "You can now add your data and train your pipeline:\n",
            "python -m spacy train config.cfg --paths.train ./train.spacy --paths.dev ./dev.spacy\n"
          ]
        }
      ]
    },
    {
      "cell_type": "code",
      "source": [
        "!python -m spacy train config.cfg --output ./ --paths.train ./training_data.spacy --paths.dev ./training_data.spacy"
      ],
      "metadata": {
        "colab": {
          "base_uri": "https://localhost:8080/"
        },
        "id": "x_suXOEb6lv6",
        "outputId": "356a3f88-e38b-4453-f0c8-800f10df5707"
      },
      "execution_count": null,
      "outputs": [
        {
          "output_type": "stream",
          "name": "stdout",
          "text": [
            "\u001b[38;5;4mℹ Saving to output directory: .\u001b[0m\n",
            "\u001b[38;5;4mℹ Using CPU\u001b[0m\n",
            "\u001b[1m\n",
            "=========================== Initializing pipeline ===========================\u001b[0m\n",
            "[2022-02-12 07:51:38,921] [INFO] Set up nlp object from config\n",
            "[2022-02-12 07:51:38,934] [INFO] Pipeline: ['tok2vec', 'ner']\n",
            "[2022-02-12 07:51:38,939] [INFO] Created vocabulary\n",
            "[2022-02-12 07:51:38,940] [INFO] Finished initializing nlp object\n",
            "[2022-02-12 07:51:39,161] [INFO] Initialized pipeline components: ['tok2vec', 'ner']\n",
            "\u001b[38;5;2m✔ Initialized pipeline\u001b[0m\n",
            "\u001b[1m\n",
            "============================= Training pipeline =============================\u001b[0m\n",
            "\u001b[38;5;4mℹ Pipeline: ['tok2vec', 'ner']\u001b[0m\n",
            "\u001b[38;5;4mℹ Initial learn rate: 0.001\u001b[0m\n",
            "E    #       LOSS TOK2VEC  LOSS NER  ENTS_F  ENTS_P  ENTS_R  SCORE \n",
            "---  ------  ------------  --------  ------  ------  ------  ------\n",
            "  0       0          0.00     52.19    0.00    0.00    0.00    0.00\n",
            " 47     200         19.18    876.59   90.91  100.00   83.33    0.91\n",
            "104     400        182.69    129.03   90.91  100.00   83.33    0.91\n",
            "171     600        108.12    128.78   90.91  100.00   83.33    0.91\n",
            "261     800        210.17    135.41   90.91  100.00   83.33    0.91\n",
            "361    1000         19.32    134.73   92.31   85.71  100.00    0.92\n",
            "461    1200         18.65    136.51   90.91  100.00   83.33    0.91\n",
            "637    1400         16.05    204.07   90.91  100.00   83.33    0.91\n",
            "837    1600         21.80    220.07   92.31   85.71  100.00    0.92\n",
            "1037    1800         28.30    212.82   92.31   85.71  100.00    0.92\n",
            "1237    2000         62.75    215.99   90.91  100.00   83.33    0.91\n",
            "1437    2200         23.65    217.62   90.91  100.00   83.33    0.91\n",
            "1637    2400         32.76    207.60   92.31   85.71  100.00    0.92\n",
            "1837    2600         53.81    214.90   92.31   85.71  100.00    0.92\n",
            "\u001b[38;5;2m✔ Saved pipeline to output directory\u001b[0m\n",
            "model-last\n"
          ]
        }
      ]
    },
    {
      "cell_type": "code",
      "source": [
        "nlp_ner = spacy.load(\"/content/gdrive/MyDrive/redbull_model2/model-best\")"
      ],
      "metadata": {
        "id": "LCpCBU7B7Qr9"
      },
      "execution_count": null,
      "outputs": []
    },
    {
      "cell_type": "code",
      "source": [
        "doc =nlp_ner('''RedBull India Pvt. Ltd\n",
        "c/o AWL India Pvt Ltd, Khasra no. 3401 JA,\n",
        "Village Amausi, Industrial Area,, Nadarganj, District, Uttar\n",
        "Pradesh\n",
        "Lucknow -226008 | State Code: 9 | GSTIN:\n",
        "09AADCR5842H1Z6\n",
        "From DELIVERY CHALLAN\n",
        "RedBull India Pvt. Ltd\n",
        "c/o AWL India Pvt Ltd, Khasra no. 3401 JA, Document No.: 4203401401\n",
        "Village Amausi, Industrial Area,, Nadarganj, District, Uttar Document Date: 04-09-2021\n",
        "Pradesh Ref. No.\n",
        "Lucknow : 226008 Ref Date:\n",
        "From State Code: 9 LR no: LKO010004721\n",
        "GSTIN:09AADCR5842H1Z6 Vehicle No: UP32KN3066\n",
        "To Transporter: 09AAGCA4705P1ZB\n",
        "Mode of Transport:Road\n",
        "RedBull India Pvt Ltd TransporterName: AWL INDIA PVT LTD\n",
        "C-58 Ground Floor, Durga Tower\n",
        "Vibhuti Khand, Uttar Pradesh\n",
        "Gomtinagar Lucknow - 226010\n",
        "Serial No Material Description HSN/SAC Qty Rate Per Amount\n",
        "Red Bull Energy Drink IN 250ml\n",
        "RB30925\n",
        "10 22029990 50 734.92 BOX 36,746.16\n",
        "Mfg. Dt.: 01.03.2021-50\n",
        "Red Bull IN Sugar Free 250ml WA\n",
        "RB205906\n",
        "20 22029990 20 734.92 BOX 14,698.46\n",
        "Mfg. Dt.: 30.04.2021-20\n",
        "Red Bull ED IN Alu Can 24x330ml WA\n",
        "RB217737\n",
        "30 22029990 40 970.10 BOX 38,803.95\n",
        "Mfg. Dt.: 06.12.2019-40\n",
        "RB Yellow Edition IN Alu Can 24x250ml\n",
        "RB231471\n",
        "40 22029990 20 734.92 BOX 14,698.46\n",
        "Mfg. Dt.: 23.02.2021-20\n",
        "Total Value 104,947.03\n",
        "Amount in words:INR One Lakh Four Thousand Nine Hundred Forty Seven and Three Paisa Only\n",
        "No. of Box: 130\n",
        "Gross weight - 962.400\n",
        "FSSAI Lic. No - 12721066000743\n",
        "For Red Bull India Pvt. Ltd.\n",
        "Authorised signatory\n",
        "Declaration:\n",
        "We declare that this document is for supply of goods between distinct or related person other than through an agent and the receipient is eligible for full input tax credit.I / We hereby\n",
        "certify that food/foods mentioned in this document is / are warranted to be of the nature and quality which it/these purports/purport to be.\n",
        "Red Bull India Pvt. Ltd.\n",
        "Registered Office Address: 1st Floor, B Wing, 215 Atrium, Kanakia Spaces, Chakala, Andheri Kurla Road, Andheri (E) Mumbai-400093. www.redbull.in\n",
        "Tel:+91-22-66180888, Fax:+91-22-66180808, Email: info.in@redbull.com, CIN: U51909MH2007FTC169580 PAN: AADCR5842H''')"
      ],
      "metadata": {
        "id": "91RH3iRO7tXl"
      },
      "execution_count": null,
      "outputs": []
    },
    {
      "cell_type": "code",
      "source": [
        "spacy.displacy.render(doc, style=\"ent\", jupyter=True)"
      ],
      "metadata": {
        "colab": {
          "base_uri": "https://localhost:8080/",
          "height": 1000
        },
        "id": "HPLteR6B7448",
        "outputId": "803bc890-e44e-4259-e794-13f736b8af58"
      },
      "execution_count": null,
      "outputs": [
        {
          "output_type": "display_data",
          "data": {
            "text/html": [
              "<span class=\"tex2jax_ignore\"><div class=\"entities\" style=\"line-height: 2.5; direction: ltr\">\n",
              "<mark class=\"entity\" style=\"background: #ddd; padding: 0.45em 0.6em; margin: 0 0.25em; line-height: 1; border-radius: 0.35em;\">\n",
              "    RedBull India Pvt. Ltd\n",
              "    <span style=\"font-size: 0.8em; font-weight: bold; line-height: 1; border-radius: 0.35em; vertical-align: middle; margin-left: 0.5rem\">COMPANY NAME</span>\n",
              "</mark>\n",
              "</br>c/o AWL India Pvt Ltd, Khasra no. 3401 JA,</br>Village Amausi, Industrial Area,, Nadarganj, District, Uttar</br>Pradesh</br>Lucknow -226008 | State Code: 9 | GSTIN:</br>09AADCR5842H1Z6</br>From DELIVERY CHALLAN</br>\n",
              "<mark class=\"entity\" style=\"background: #ddd; padding: 0.45em 0.6em; margin: 0 0.25em; line-height: 1; border-radius: 0.35em;\">\n",
              "    RedBull India Pvt. Ltd\n",
              "    <span style=\"font-size: 0.8em; font-weight: bold; line-height: 1; border-radius: 0.35em; vertical-align: middle; margin-left: 0.5rem\">COMPANY NAME</span>\n",
              "</mark>\n",
              "</br>c/o AWL India Pvt Ltd, Khasra no. 3401 JA, Document No.: 4203401401</br>Village Amausi, Industrial Area,, Nadarganj, District, Uttar Document Date: \n",
              "<mark class=\"entity\" style=\"background: #ddd; padding: 0.45em 0.6em; margin: 0 0.25em; line-height: 1; border-radius: 0.35em;\">\n",
              "    04-09-2021\n",
              "    <span style=\"font-size: 0.8em; font-weight: bold; line-height: 1; border-radius: 0.35em; vertical-align: middle; margin-left: 0.5rem\">DOCUMENT DATE</span>\n",
              "</mark>\n",
              "</br>Pradesh Ref. No.</br>Lucknow : 226008 Ref Date:</br>From State Code: 9 LR no: LKO010004721</br>\n",
              "<mark class=\"entity\" style=\"background: #ddd; padding: 0.45em 0.6em; margin: 0 0.25em; line-height: 1; border-radius: 0.35em;\">\n",
              "    GSTIN:09AADCR5842H1Z6\n",
              "    <span style=\"font-size: 0.8em; font-weight: bold; line-height: 1; border-radius: 0.35em; vertical-align: middle; margin-left: 0.5rem\">COMPANY GSTIN NUMBER</span>\n",
              "</mark>\n",
              " Vehicle No: \n",
              "<mark class=\"entity\" style=\"background: #ddd; padding: 0.45em 0.6em; margin: 0 0.25em; line-height: 1; border-radius: 0.35em;\">\n",
              "    UP32KN3066\n",
              "    <span style=\"font-size: 0.8em; font-weight: bold; line-height: 1; border-radius: 0.35em; vertical-align: middle; margin-left: 0.5rem\">VEHICLE NO</span>\n",
              "</mark>\n",
              "</br>To Transporter: 09AAGCA4705P1ZB</br>Mode of Transport:Road</br>RedBull India Pvt Ltd TransporterName: AWL INDIA PVT LTD</br>C-58 Ground Floor, Durga Tower</br>Vibhuti Khand, Uttar Pradesh</br>Gomtinagar Lucknow - 226010</br>Serial No Material Description HSN/SAC Qty Rate Per Amount</br>Red Bull Energy Drink IN 250ml</br>RB30925</br>10 22029990 50 734.92 BOX 36,746.16</br>Mfg. Dt.: 01.03.2021-50</br>Red Bull IN Sugar Free 250ml WA</br>RB205906</br>20 22029990 20 734.92 BOX 14,698.46</br>Mfg. Dt.: 30.04.2021-20</br>Red Bull ED IN Alu Can 24x330ml WA</br>RB217737</br>30 22029990 40 970.10 BOX 38,803.95</br>Mfg. Dt.: 06.12.2019-40</br>RB Yellow Edition IN Alu Can 24x250ml</br>RB231471</br>40 22029990 20 734.92 BOX 14,698.46</br>Mfg. Dt.: 23.02.2021-20</br>Total Value 104,947.03</br>Amount in words:INR One Lakh Four Thousand Nine Hundred Forty Seven and Three Paisa Only</br>No. of Box: 130</br>Gross weight - 962.400</br>FSSAI Lic. No - 12721066000743</br>For Red Bull India Pvt. Ltd.</br>Authorised signatory</br>Declaration:</br>We declare that this document is for supply of goods between distinct or related person other than through an agent and the receipient is eligible for full input tax credit.I / We hereby</br>certify that food/foods mentioned in this document is / are warranted to be of the nature and quality which it/these purports/purport to be.</br>Red Bull India Pvt. Ltd.</br>Registered Office Address: 1st Floor, B Wing, 215 Atrium, Kanakia Spaces, Chakala, Andheri Kurla Road, Andheri (E) Mumbai-400093. www.redbull.in</br>Tel:+91-22-66180888, Fax:+91-22-66180808, Email: info.in@redbull.com, CIN: \n",
              "<mark class=\"entity\" style=\"background: #ddd; padding: 0.45em 0.6em; margin: 0 0.25em; line-height: 1; border-radius: 0.35em;\">\n",
              "    U51909MH2007FTC169580\n",
              "    <span style=\"font-size: 0.8em; font-weight: bold; line-height: 1; border-radius: 0.35em; vertical-align: middle; margin-left: 0.5rem\">CIN NO</span>\n",
              "</mark>\n",
              " PAN: \n",
              "<mark class=\"entity\" style=\"background: #ddd; padding: 0.45em 0.6em; margin: 0 0.25em; line-height: 1; border-radius: 0.35em;\">\n",
              "    AADCR5842H\n",
              "    <span style=\"font-size: 0.8em; font-weight: bold; line-height: 1; border-radius: 0.35em; vertical-align: middle; margin-left: 0.5rem\">COMPANY PAN NO</span>\n",
              "</mark>\n",
              "</div></span>"
            ],
            "text/plain": [
              "<IPython.core.display.HTML object>"
            ]
          },
          "metadata": {}
        }
      ]
    },
    {
      "cell_type": "code",
      "source": [
        "import pandas as pd"
      ],
      "metadata": {
        "id": "g1jvFfZy8B-1"
      },
      "execution_count": null,
      "outputs": []
    },
    {
      "cell_type": "code",
      "source": [
        "all_data =[]\n",
        "for fl in os.listdir(INPUT_FOLDER):\n",
        "    print(fl)\n",
        "    pdf_obj = pdfplumber.open(INPUT_FOLDER + fl)\n",
        "    for page in pdf_obj.pages:\n",
        "        tables = page.extract_tables()\n",
        "        page_txt = page.extract_text()\n",
        "        # print(page_txt)\n",
        "        for table in tables:\n",
        "            if 'DELIVERY' in ''.join(table[0]):\n",
        "                document_no =  table[1][0].split('\\n')[0].replace('Document No.:','').strip()\n",
        "                print(document_no)\n",
        "            if 'Serial No' in ''.join(table[0]) or 'Item' in ''.join(table[0]):\n",
        "                table_df = pd.DataFrame(table[1::],columns=table[0])\n",
        "                # print(table_df.columns)\n",
        "                for idx, row in table_df.iterrows():\n",
        "                    if row['Serial No'].isnumeric():\n",
        "                        # print(type(row['Serial No']))\n",
        "#                         print(idx)\n",
        "                        if idx == 0:\n",
        "                            doc = nlp_ner(page_txt)\n",
        "                            all_label_text = []\n",
        "                            for ent in doc.ents:\n",
        "                              print(ent.label_)\n",
        "                              if ent.label_ == \"COMPANY NAME\":\n",
        "                                company_name = ent.text\n",
        "                              if ent.label_ == \"COMPANY NAME\":\n",
        "                                company_name = ent.text\n",
        "                              if ent.label_ == \"DOCUMENT DATE\":\n",
        "                                document_date = ent.text\n",
        "                              if ent.label_ == \"COMPANY GSTIN NUMBER\":\n",
        "                                company_gstin = ent.text\n",
        "                              if ent.label_ == \"VEHICLE NO\":\n",
        "                                vehicle_no = ent.text\n",
        "                              if ent.label_ == \"CIN NO\":\n",
        "                                cin_no = ent.text\n",
        "                              if ent.label_ == \"COMPANY PAN NO\":\n",
        "                                company_pan = ent.text\n",
        "                            receipt_tot_amt = table_df[table_df['Serial No'] == 'Total Value']['Amount'].values[0]\n",
        "                            all_data.append([document_no,company_name,company_name,document_date,company_gstin,vehicle_no,cin_no,company_pan,receipt_tot_amt,row['Serial No'], row['Material Description'], row['HSN/SAC'], row['Qty'], row['Rate'], row['Per'],row['Amount']])\n",
        "                        else:\n",
        "                            all_data.append(['','','','','','','','','', row['Serial No'], row['Material Description'], row['HSN/SAC'], row['Qty'], row['Rate'], row['Per'], row['Amount']  ])\n",
        "                    \n",
        "                print(\"_________________________\")\n",
        "                                             "
      ],
      "metadata": {
        "colab": {
          "base_uri": "https://localhost:8080/"
        },
        "id": "OqJCisX08F8h",
        "outputId": "a08929b6-f917-402f-f180-4df13b2a30d6"
      },
      "execution_count": null,
      "outputs": [
        {
          "output_type": "stream",
          "name": "stdout",
          "text": [
            "RedBullIndiaPvt.Ltd._4203401401.pdf\n",
            "4203401401\n",
            "COMPANY NAME\n",
            "COMPANY NAME\n",
            "DOCUMENT DATE\n",
            "COMPANY GSTIN NUMBER\n",
            "VEHICLE NO\n",
            "CIN NO\n",
            "COMPANY PAN NO\n",
            "_________________________\n",
            "SAgarwalEnterprises_4203401412.pdf\n",
            "4203401412\n",
            "COMPANY NAME\n",
            "COMPANY NAME\n",
            "DOCUMENT DATE\n",
            "VEHICLE NO\n",
            "CIN NO\n",
            "COMPANY PAN NO\n",
            "_________________________\n",
            "RedbullIndiaPvtLtdLucknow_4203401414.pdf\n",
            "4203401414\n",
            "COMPANY NAME\n",
            "COMPANY NAME\n",
            "DOCUMENT DATE\n",
            "VEHICLE NO\n",
            "CIN NO\n",
            "COMPANY PAN NO\n",
            "_________________________\n",
            "RedbullIndiaPvtLtdLucknow_4203401410.pdf\n",
            "4203401410\n",
            "COMPANY NAME\n",
            "COMPANY NAME\n",
            "VEHICLE NO\n",
            "CIN NO\n",
            "COMPANY PAN NO\n",
            "_________________________\n"
          ]
        }
      ]
    },
    {
      "cell_type": "code",
      "source": [
        "out_df = pd.DataFrame(all_data, columns= ['Document No','COMPANY NAME','COMPANY NAME','DOCUMENT DATE', 'COMPANY GSTIN NUMBER','VEHICLE NO','CIN NO','COMPANY PAN NO', 'Invoice Total Amt','Serial No', 'Material Description', 'HSN/SAC', 'Qty', 'Rate', 'Per','Amount'])"
      ],
      "metadata": {
        "id": "0CFxyI__EJZw"
      },
      "execution_count": null,
      "outputs": []
    },
    {
      "cell_type": "code",
      "source": [
        "out_df"
      ],
      "metadata": {
        "colab": {
          "base_uri": "https://localhost:8080/",
          "height": 809
        },
        "id": "uwvOr3r8QgBT",
        "outputId": "ba412600-a9dd-4cf8-fa34-42dfb23415f1"
      },
      "execution_count": null,
      "outputs": [
        {
          "output_type": "execute_result",
          "data": {
            "text/html": [
              "\n",
              "  <div id=\"df-e2865ca4-a6a0-4d88-8254-4b35d93c9fdb\">\n",
              "    <div class=\"colab-df-container\">\n",
              "      <div>\n",
              "<style scoped>\n",
              "    .dataframe tbody tr th:only-of-type {\n",
              "        vertical-align: middle;\n",
              "    }\n",
              "\n",
              "    .dataframe tbody tr th {\n",
              "        vertical-align: top;\n",
              "    }\n",
              "\n",
              "    .dataframe thead th {\n",
              "        text-align: right;\n",
              "    }\n",
              "</style>\n",
              "<table border=\"1\" class=\"dataframe\">\n",
              "  <thead>\n",
              "    <tr style=\"text-align: right;\">\n",
              "      <th></th>\n",
              "      <th>Document No</th>\n",
              "      <th>COMPANY NAME</th>\n",
              "      <th>COMPANY NAME</th>\n",
              "      <th>DOCUMENT DATE</th>\n",
              "      <th>COMPANY GSTIN NUMBER</th>\n",
              "      <th>VEHICLE NO</th>\n",
              "      <th>CIN NO</th>\n",
              "      <th>COMPANY PAN NO</th>\n",
              "      <th>Invoice Total Amt</th>\n",
              "      <th>Serial No</th>\n",
              "      <th>Material Description</th>\n",
              "      <th>HSN/SAC</th>\n",
              "      <th>Qty</th>\n",
              "      <th>Rate</th>\n",
              "      <th>Per</th>\n",
              "      <th>Amount</th>\n",
              "    </tr>\n",
              "  </thead>\n",
              "  <tbody>\n",
              "    <tr>\n",
              "      <th>0</th>\n",
              "      <td>4203401401</td>\n",
              "      <td>RedBull India Pvt. Ltd</td>\n",
              "      <td>RedBull India Pvt. Ltd</td>\n",
              "      <td>04-09-2021</td>\n",
              "      <td>GSTIN:09AADCR5842H1Z6</td>\n",
              "      <td>UP32KN3066</td>\n",
              "      <td>U51909MH2007FTC169580</td>\n",
              "      <td>AADCR5842H</td>\n",
              "      <td>104,947.03</td>\n",
              "      <td>10</td>\n",
              "      <td>Red Bull Energy Drink IN 250ml\\nRB30925\\nMfg. ...</td>\n",
              "      <td>22029990</td>\n",
              "      <td>50</td>\n",
              "      <td>734.92</td>\n",
              "      <td>BOX</td>\n",
              "      <td>36,746.16</td>\n",
              "    </tr>\n",
              "    <tr>\n",
              "      <th>1</th>\n",
              "      <td></td>\n",
              "      <td></td>\n",
              "      <td></td>\n",
              "      <td></td>\n",
              "      <td></td>\n",
              "      <td></td>\n",
              "      <td></td>\n",
              "      <td></td>\n",
              "      <td></td>\n",
              "      <td>20</td>\n",
              "      <td>Red Bull IN Sugar Free 250ml WA\\nRB205906\\nMfg...</td>\n",
              "      <td>22029990</td>\n",
              "      <td>20</td>\n",
              "      <td>734.92</td>\n",
              "      <td>BOX</td>\n",
              "      <td>14,698.46</td>\n",
              "    </tr>\n",
              "    <tr>\n",
              "      <th>2</th>\n",
              "      <td></td>\n",
              "      <td></td>\n",
              "      <td></td>\n",
              "      <td></td>\n",
              "      <td></td>\n",
              "      <td></td>\n",
              "      <td></td>\n",
              "      <td></td>\n",
              "      <td></td>\n",
              "      <td>30</td>\n",
              "      <td>Red Bull ED IN Alu Can 24x330ml WA\\nRB217737\\n...</td>\n",
              "      <td>22029990</td>\n",
              "      <td>40</td>\n",
              "      <td>970.10</td>\n",
              "      <td>BOX</td>\n",
              "      <td>38,803.95</td>\n",
              "    </tr>\n",
              "    <tr>\n",
              "      <th>3</th>\n",
              "      <td></td>\n",
              "      <td></td>\n",
              "      <td></td>\n",
              "      <td></td>\n",
              "      <td></td>\n",
              "      <td></td>\n",
              "      <td></td>\n",
              "      <td></td>\n",
              "      <td></td>\n",
              "      <td>40</td>\n",
              "      <td>RB Yellow Edition IN Alu Can 24x250ml\\nRB23147...</td>\n",
              "      <td>22029990</td>\n",
              "      <td>20</td>\n",
              "      <td>734.92</td>\n",
              "      <td>BOX</td>\n",
              "      <td>14,698.46</td>\n",
              "    </tr>\n",
              "    <tr>\n",
              "      <th>4</th>\n",
              "      <td>4203401412</td>\n",
              "      <td>RedBull India Pvt. Ltd</td>\n",
              "      <td>RedBull India Pvt. Ltd</td>\n",
              "      <td>21-09-2021</td>\n",
              "      <td>GSTIN:09AADCR5842H1Z6</td>\n",
              "      <td>UP32NN5334</td>\n",
              "      <td>U51909MH2007FTC169580</td>\n",
              "      <td>AADCR5842H</td>\n",
              "      <td>3,343.30</td>\n",
              "      <td>10</td>\n",
              "      <td>Canc. V2 Wrap BX Purple Ed. Int.\\nVD205342030</td>\n",
              "      <td>39199090</td>\n",
              "      <td>2</td>\n",
              "      <td>1,671.65</td>\n",
              "      <td>NOS</td>\n",
              "      <td>3,343.30</td>\n",
              "    </tr>\n",
              "    <tr>\n",
              "      <th>5</th>\n",
              "      <td>4203401414</td>\n",
              "      <td>RedBull India Pvt. Ltd</td>\n",
              "      <td>RedBull India Pvt. Ltd</td>\n",
              "      <td>21-09-2021</td>\n",
              "      <td>GSTIN:09AADCR5842H1Z6</td>\n",
              "      <td>UP32NN5334</td>\n",
              "      <td>U51909MH2007FTC169580</td>\n",
              "      <td>AADCR5842H</td>\n",
              "      <td>14,698.47</td>\n",
              "      <td>10</td>\n",
              "      <td>Red Bull ED IN Alu Can 24x250ml WA\\nRB226600\\n...</td>\n",
              "      <td>22029990</td>\n",
              "      <td>6</td>\n",
              "      <td>734.92</td>\n",
              "      <td>BOX</td>\n",
              "      <td>4,409.54</td>\n",
              "    </tr>\n",
              "    <tr>\n",
              "      <th>6</th>\n",
              "      <td></td>\n",
              "      <td></td>\n",
              "      <td></td>\n",
              "      <td></td>\n",
              "      <td></td>\n",
              "      <td></td>\n",
              "      <td></td>\n",
              "      <td></td>\n",
              "      <td></td>\n",
              "      <td>20</td>\n",
              "      <td>Red Bull IN Sugar Free 250ml WA\\nRB205906\\nMfg...</td>\n",
              "      <td>22029990</td>\n",
              "      <td>2</td>\n",
              "      <td>734.92</td>\n",
              "      <td>BOX</td>\n",
              "      <td>1,469.85</td>\n",
              "    </tr>\n",
              "    <tr>\n",
              "      <th>7</th>\n",
              "      <td></td>\n",
              "      <td></td>\n",
              "      <td></td>\n",
              "      <td></td>\n",
              "      <td></td>\n",
              "      <td></td>\n",
              "      <td></td>\n",
              "      <td></td>\n",
              "      <td></td>\n",
              "      <td>30</td>\n",
              "      <td>RB Yellow Edition IN Alu Can 24x250ml\\nRB23147...</td>\n",
              "      <td>22029990</td>\n",
              "      <td>4</td>\n",
              "      <td>734.92</td>\n",
              "      <td>BOX</td>\n",
              "      <td>2,939.69</td>\n",
              "    </tr>\n",
              "    <tr>\n",
              "      <th>8</th>\n",
              "      <td></td>\n",
              "      <td></td>\n",
              "      <td></td>\n",
              "      <td></td>\n",
              "      <td></td>\n",
              "      <td></td>\n",
              "      <td></td>\n",
              "      <td></td>\n",
              "      <td></td>\n",
              "      <td>40</td>\n",
              "      <td>RB Purple Edition IN Alu Can 24x250ml\\nRB23583...</td>\n",
              "      <td>22029990</td>\n",
              "      <td>8</td>\n",
              "      <td>734.92</td>\n",
              "      <td>BOX</td>\n",
              "      <td>5,879.39</td>\n",
              "    </tr>\n",
              "    <tr>\n",
              "      <th>9</th>\n",
              "      <td>4203401410</td>\n",
              "      <td>RedBull India Pvt. Ltd</td>\n",
              "      <td>RedBull India Pvt. Ltd</td>\n",
              "      <td>21-09-2021</td>\n",
              "      <td>GSTIN:09AADCR5842H1Z6</td>\n",
              "      <td>UP32LN9531</td>\n",
              "      <td>U51909MH2007FTC169580</td>\n",
              "      <td>AADCR5842H</td>\n",
              "      <td>2,939.69</td>\n",
              "      <td>10</td>\n",
              "      <td>Red Bull ED IN Alu Can 24x250ml WA\\nRB226600\\n...</td>\n",
              "      <td>22029990</td>\n",
              "      <td>4</td>\n",
              "      <td>734.92</td>\n",
              "      <td>BOX</td>\n",
              "      <td>2,939.69</td>\n",
              "    </tr>\n",
              "  </tbody>\n",
              "</table>\n",
              "</div>\n",
              "      <button class=\"colab-df-convert\" onclick=\"convertToInteractive('df-e2865ca4-a6a0-4d88-8254-4b35d93c9fdb')\"\n",
              "              title=\"Convert this dataframe to an interactive table.\"\n",
              "              style=\"display:none;\">\n",
              "        \n",
              "  <svg xmlns=\"http://www.w3.org/2000/svg\" height=\"24px\"viewBox=\"0 0 24 24\"\n",
              "       width=\"24px\">\n",
              "    <path d=\"M0 0h24v24H0V0z\" fill=\"none\"/>\n",
              "    <path d=\"M18.56 5.44l.94 2.06.94-2.06 2.06-.94-2.06-.94-.94-2.06-.94 2.06-2.06.94zm-11 1L8.5 8.5l.94-2.06 2.06-.94-2.06-.94L8.5 2.5l-.94 2.06-2.06.94zm10 10l.94 2.06.94-2.06 2.06-.94-2.06-.94-.94-2.06-.94 2.06-2.06.94z\"/><path d=\"M17.41 7.96l-1.37-1.37c-.4-.4-.92-.59-1.43-.59-.52 0-1.04.2-1.43.59L10.3 9.45l-7.72 7.72c-.78.78-.78 2.05 0 2.83L4 21.41c.39.39.9.59 1.41.59.51 0 1.02-.2 1.41-.59l7.78-7.78 2.81-2.81c.8-.78.8-2.07 0-2.86zM5.41 20L4 18.59l7.72-7.72 1.47 1.35L5.41 20z\"/>\n",
              "  </svg>\n",
              "      </button>\n",
              "      \n",
              "  <style>\n",
              "    .colab-df-container {\n",
              "      display:flex;\n",
              "      flex-wrap:wrap;\n",
              "      gap: 12px;\n",
              "    }\n",
              "\n",
              "    .colab-df-convert {\n",
              "      background-color: #E8F0FE;\n",
              "      border: none;\n",
              "      border-radius: 50%;\n",
              "      cursor: pointer;\n",
              "      display: none;\n",
              "      fill: #1967D2;\n",
              "      height: 32px;\n",
              "      padding: 0 0 0 0;\n",
              "      width: 32px;\n",
              "    }\n",
              "\n",
              "    .colab-df-convert:hover {\n",
              "      background-color: #E2EBFA;\n",
              "      box-shadow: 0px 1px 2px rgba(60, 64, 67, 0.3), 0px 1px 3px 1px rgba(60, 64, 67, 0.15);\n",
              "      fill: #174EA6;\n",
              "    }\n",
              "\n",
              "    [theme=dark] .colab-df-convert {\n",
              "      background-color: #3B4455;\n",
              "      fill: #D2E3FC;\n",
              "    }\n",
              "\n",
              "    [theme=dark] .colab-df-convert:hover {\n",
              "      background-color: #434B5C;\n",
              "      box-shadow: 0px 1px 3px 1px rgba(0, 0, 0, 0.15);\n",
              "      filter: drop-shadow(0px 1px 2px rgba(0, 0, 0, 0.3));\n",
              "      fill: #FFFFFF;\n",
              "    }\n",
              "  </style>\n",
              "\n",
              "      <script>\n",
              "        const buttonEl =\n",
              "          document.querySelector('#df-e2865ca4-a6a0-4d88-8254-4b35d93c9fdb button.colab-df-convert');\n",
              "        buttonEl.style.display =\n",
              "          google.colab.kernel.accessAllowed ? 'block' : 'none';\n",
              "\n",
              "        async function convertToInteractive(key) {\n",
              "          const element = document.querySelector('#df-e2865ca4-a6a0-4d88-8254-4b35d93c9fdb');\n",
              "          const dataTable =\n",
              "            await google.colab.kernel.invokeFunction('convertToInteractive',\n",
              "                                                     [key], {});\n",
              "          if (!dataTable) return;\n",
              "\n",
              "          const docLinkHtml = 'Like what you see? Visit the ' +\n",
              "            '<a target=\"_blank\" href=https://colab.research.google.com/notebooks/data_table.ipynb>data table notebook</a>'\n",
              "            + ' to learn more about interactive tables.';\n",
              "          element.innerHTML = '';\n",
              "          dataTable['output_type'] = 'display_data';\n",
              "          await google.colab.output.renderOutput(dataTable, element);\n",
              "          const docLink = document.createElement('div');\n",
              "          docLink.innerHTML = docLinkHtml;\n",
              "          element.appendChild(docLink);\n",
              "        }\n",
              "      </script>\n",
              "    </div>\n",
              "  </div>\n",
              "  "
            ],
            "text/plain": [
              "  Document No            COMPANY NAME  ...  Per     Amount\n",
              "0  4203401401  RedBull India Pvt. Ltd  ...  BOX  36,746.16\n",
              "1                                      ...  BOX  14,698.46\n",
              "2                                      ...  BOX  38,803.95\n",
              "3                                      ...  BOX  14,698.46\n",
              "4  4203401412  RedBull India Pvt. Ltd  ...  NOS   3,343.30\n",
              "5  4203401414  RedBull India Pvt. Ltd  ...  BOX   4,409.54\n",
              "6                                      ...  BOX   1,469.85\n",
              "7                                      ...  BOX   2,939.69\n",
              "8                                      ...  BOX   5,879.39\n",
              "9  4203401410  RedBull India Pvt. Ltd  ...  BOX   2,939.69\n",
              "\n",
              "[10 rows x 16 columns]"
            ]
          },
          "metadata": {},
          "execution_count": 50
        }
      ]
    },
    {
      "cell_type": "code",
      "source": [
        "out_df.to_csv(OUTPUT_FOLDER+'test_redbull1232.csv')"
      ],
      "metadata": {
        "id": "Ho5KlefsUE1p"
      },
      "execution_count": null,
      "outputs": []
    }
  ]
}