{
  "nbformat": 4,
  "nbformat_minor": 0,
  "metadata": {
    "colab": {
      "name": "Untitled14.ipynb",
      "provenance": [],
      "authorship_tag": "ABX9TyPa2RhmUqNLB1N2MDAkaDas",
      "include_colab_link": true
    },
    "kernelspec": {
      "name": "python3",
      "display_name": "Python 3"
    },
    "language_info": {
      "name": "python"
    }
  },
  "cells": [
    {
      "cell_type": "markdown",
      "metadata": {
        "id": "view-in-github",
        "colab_type": "text"
      },
      "source": [
        "<a href=\"https://colab.research.google.com/github/ramprakashyadav/OCR/blob/main/Untitled14.ipynb\" target=\"_parent\"><img src=\"https://colab.research.google.com/assets/colab-badge.svg\" alt=\"Open In Colab\"/></a>"
      ]
    },
    {
      "cell_type": "code",
      "metadata": {
        "colab": {
          "base_uri": "https://localhost:8080/"
        },
        "id": "31lWZES5nuNP",
        "outputId": "5e4d1224-4101-4d2f-a664-b2b565eec115"
      },
      "source": [
        "!pip install pillow\n",
        "!pip install opencv-python\n",
        "!pip install pytesseract"
      ],
      "execution_count": 9,
      "outputs": [
        {
          "output_type": "stream",
          "name": "stdout",
          "text": [
            "Requirement already satisfied: pillow in /usr/local/lib/python3.7/dist-packages (7.1.2)\n",
            "Requirement already satisfied: opencv-python in /usr/local/lib/python3.7/dist-packages (4.1.2.30)\n",
            "Requirement already satisfied: numpy>=1.14.5 in /usr/local/lib/python3.7/dist-packages (from opencv-python) (1.19.5)\n",
            "Requirement already satisfied: pytesseract in /usr/local/lib/python3.7/dist-packages (0.3.8)\n",
            "Requirement already satisfied: Pillow in /usr/local/lib/python3.7/dist-packages (from pytesseract) (7.1.2)\n"
          ]
        }
      ]
    },
    {
      "cell_type": "code",
      "metadata": {
        "id": "DuiPpaKT1O47"
      },
      "source": [
        "import pytesseract\n",
        "import cv2"
      ],
      "execution_count": 10,
      "outputs": []
    },
    {
      "cell_type": "code",
      "metadata": {
        "id": "vP8ap9Qx1WHe"
      },
      "source": [
        "image = cv2.imread(\"Image.01.jpg\")"
      ],
      "execution_count": 11,
      "outputs": []
    },
    {
      "cell_type": "code",
      "metadata": {
        "id": "QhGlKGe-1wMF"
      },
      "source": [
        "gray = cv2.cvtColor(image, cv2.COLOR_BGR2GRAY)"
      ],
      "execution_count": 12,
      "outputs": []
    },
    {
      "cell_type": "code",
      "metadata": {
        "id": "eYHPBOl14D1Q",
        "outputId": "b0dc6435-8026-46dc-cbe5-00032675c39b",
        "colab": {
          "base_uri": "https://localhost:8080/"
        }
      },
      "source": [
        "cv2.imwrite(\"index_gray.png\", gray)"
      ],
      "execution_count": 14,
      "outputs": [
        {
          "output_type": "execute_result",
          "data": {
            "text/plain": [
              "True"
            ]
          },
          "metadata": {},
          "execution_count": 14
        }
      ]
    },
    {
      "cell_type": "code",
      "metadata": {
        "id": "2-1-R2mg4XYb"
      },
      "source": [
        "blur = cv2.GaussianBlur(gray, (7,7), 0)"
      ],
      "execution_count": 15,
      "outputs": []
    },
    {
      "cell_type": "code",
      "metadata": {
        "id": "CL0VMHkn4i49",
        "outputId": "adf2e026-ee59-4a46-bec2-9a40f696d467",
        "colab": {
          "base_uri": "https://localhost:8080/"
        }
      },
      "source": [
        "cv2.imwrite(\"index_blur.png\", blur)"
      ],
      "execution_count": 16,
      "outputs": [
        {
          "output_type": "execute_result",
          "data": {
            "text/plain": [
              "True"
            ]
          },
          "metadata": {},
          "execution_count": 16
        }
      ]
    },
    {
      "cell_type": "code",
      "metadata": {
        "id": "Fgi-iM2h4wKO"
      },
      "source": [
        "thresh = cv2.threshold(blur, 0, 255, cv2.THRESH_BINARY_INV + cv2.THRESH_OTSU)[1]"
      ],
      "execution_count": 19,
      "outputs": []
    },
    {
      "cell_type": "code",
      "metadata": {
        "id": "O5G9tJ4A5Wx1",
        "outputId": "025bbbd7-04fd-4db8-9721-ab490caab594",
        "colab": {
          "base_uri": "https://localhost:8080/"
        }
      },
      "source": [
        "cv2.imwrite(\"index_thresh.png\", thresh)"
      ],
      "execution_count": 21,
      "outputs": [
        {
          "output_type": "execute_result",
          "data": {
            "text/plain": [
              "True"
            ]
          },
          "metadata": {},
          "execution_count": 21
        }
      ]
    },
    {
      "cell_type": "code",
      "metadata": {
        "id": "sG-Bf7bU50Fe"
      },
      "source": [
        "kernal = cv2.getStructuringElement(cv2.MORPH_RECT, (3,13))"
      ],
      "execution_count": 22,
      "outputs": []
    },
    {
      "cell_type": "code",
      "metadata": {
        "id": "Et9DThwI6DMb",
        "outputId": "10bb36b9-9440-46f1-8c9e-22fd51b1c79a",
        "colab": {
          "base_uri": "https://localhost:8080/"
        }
      },
      "source": [
        "cv2.imwrite(\"index_kernal.png\", kernal)"
      ],
      "execution_count": 23,
      "outputs": [
        {
          "output_type": "execute_result",
          "data": {
            "text/plain": [
              "True"
            ]
          },
          "metadata": {},
          "execution_count": 23
        }
      ]
    },
    {
      "cell_type": "code",
      "metadata": {
        "id": "TtHera3e6Qf7"
      },
      "source": [
        "dilate = cv2.dilate(thresh, kernal, iterations=1)"
      ],
      "execution_count": 24,
      "outputs": []
    },
    {
      "cell_type": "code",
      "metadata": {
        "id": "pyp-qTM96jJY",
        "outputId": "523e391a-7d14-4f20-80e9-3936c87fc581",
        "colab": {
          "base_uri": "https://localhost:8080/"
        }
      },
      "source": [
        "cv2.imwrite(\"index_dilate.png\", dilate)"
      ],
      "execution_count": 25,
      "outputs": [
        {
          "output_type": "execute_result",
          "data": {
            "text/plain": [
              "True"
            ]
          },
          "metadata": {},
          "execution_count": 25
        }
      ]
    },
    {
      "cell_type": "code",
      "metadata": {
        "id": "ta0lkRWj2Dfa"
      },
      "source": [
        "cnts = cv2.findContours(dilate, cv2.RETR_EXTERNAL, cv2.CHAIN_APPROX_SIMPLE)"
      ],
      "execution_count": 27,
      "outputs": []
    },
    {
      "cell_type": "code",
      "metadata": {
        "id": "wU9LB_UQ7Jar"
      },
      "source": [
        "cnts = cnts[0] if len(cnts) == 2 else cents[1]"
      ],
      "execution_count": 28,
      "outputs": []
    },
    {
      "cell_type": "code",
      "metadata": {
        "id": "u4_0jVjf7XeW"
      },
      "source": [
        "cnts = sorted(cnts, key=lambda x: cv2.boundingRect(x)[0])"
      ],
      "execution_count": 29,
      "outputs": []
    },
    {
      "cell_type": "code",
      "metadata": {
        "id": "3TjlAgWN7wWK",
        "outputId": "af555a15-fa2c-404e-9dbc-5d67b28968b1",
        "colab": {
          "base_uri": "https://localhost:8080/"
        }
      },
      "source": [
        "for c in cnts:\n",
        "    x, y, w, h = cv2.boundingRect(c)\n",
        "    if h > 200 and w > 20: \n",
        "        roi = image[y:y+h, x:x+h]\n",
        "        cv2.imwrite(\"index_roi.png\", roi)\n",
        "        cv2.rectangle(image, (x, y), (x+w, y+h), (36, 255, 12), 2)\n",
        "cv2.imwrite(\"index_bbox.png\", image)  "
      ],
      "execution_count": 37,
      "outputs": [
        {
          "output_type": "execute_result",
          "data": {
            "text/plain": [
              "True"
            ]
          },
          "metadata": {},
          "execution_count": 37
        }
      ]
    },
    {
      "cell_type": "code",
      "metadata": {
        "id": "VoVWcrMr8gEY"
      },
      "source": [
        ""
      ],
      "execution_count": null,
      "outputs": []
    }
  ]
}